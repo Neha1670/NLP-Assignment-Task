{
  "nbformat": 4,
  "nbformat_minor": 0,
  "metadata": {
    "colab": {
      "provenance": []
    },
    "kernelspec": {
      "name": "python3",
      "display_name": "Python 3"
    },
    "language_info": {
      "name": "python"
    }
  },
  "cells": [
    {
      "cell_type": "code",
      "execution_count": 1,
      "metadata": {
        "colab": {
          "base_uri": "https://localhost:8080/"
        },
        "id": "BnTUJ8enmdaU",
        "outputId": "a0b0430e-9575-4356-e34b-93377f6e1197"
      },
      "outputs": [
        {
          "output_type": "stream",
          "name": "stderr",
          "text": [
            "[nltk_data] Downloading package punkt to /root/nltk_data...\n",
            "[nltk_data]   Unzipping tokenizers/punkt.zip.\n",
            "[nltk_data] Downloading package averaged_perceptron_tagger to\n",
            "[nltk_data]     /root/nltk_data...\n",
            "[nltk_data]   Unzipping taggers/averaged_perceptron_tagger.zip.\n"
          ]
        },
        {
          "output_type": "stream",
          "name": "stdout",
          "text": [
            "NLTK: NNP\n",
            "is: VBZ\n",
            "a: DT\n",
            "leading: VBG\n",
            "platform: NN\n",
            "for: IN\n",
            "building: VBG\n",
            "Python: NNP\n",
            "programs: NNS\n",
            "to: TO\n",
            "work: VB\n",
            "with: IN\n",
            "human: JJ\n",
            "language: NN\n",
            "data: NNS\n",
            ".: .\n"
          ]
        }
      ],
      "source": [
        "import nltk\n",
        "from nltk.tokenize import word_tokenize\n",
        "from nltk import pos_tag\n",
        "\n",
        "# Download the necessary resources\n",
        "nltk.download('punkt')\n",
        "nltk.download('averaged_perceptron_tagger')\n",
        "\n",
        "# Input sentence\n",
        "sentence = \"NLTK is a leading platform for building Python programs to work with human language data.\"\n",
        "\n",
        "# Tokenize the sentence\n",
        "tokens = word_tokenize(sentence)\n",
        "\n",
        "# Perform POS tagging\n",
        "tagged_tokens = pos_tag(tokens)\n",
        "\n",
        "# Print the tokens with their POS tags\n",
        "for token, tag in tagged_tokens:\n",
        "    print(f\"{token}: {tag}\")\n"
      ]
    }
  ]
}